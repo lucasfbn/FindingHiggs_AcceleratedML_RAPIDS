{
 "cells": [
  {
   "cell_type": "code",
   "execution_count": 20,
   "source": [
    "import time\n",
    "import math\n",
    "from functools import partial\n",
    "\n",
    "import cudf\n",
    "from cuml import LogisticRegression\n",
    "from cuml import PCA\n",
    "from cuml.preprocessing import StandardScaler\n",
    "from cuml.ensemble import RandomForestClassifier\n",
    "from cuml.metrics.accuracy import accuracy_score\n",
    "\n",
    "import xgboost as xgb\n",
    "import optuna\n",
    "\n",
    "import dask\n",
    "from dask.distributed import Client, LocalCluster\n",
    "\n",
    "from sklearn.metrics import recall_score, classification_report, auc, roc_curve, ConfusionMatrixDisplay, \\\n",
    "    confusion_matrix\n",
    "\n",
    "import plots"
   ],
   "outputs": [],
   "metadata": {}
  },
  {
   "cell_type": "markdown",
   "source": [
    "# Pre-Processing Pipeline\n",
    "\n",
    "## Tasks\n",
    "\n",
    "This section defines the different pre-processing steps as functions. These functions are then used to build the pre-processing pipeline later on."
   ],
   "metadata": {
    "collapsed": true
   }
  },
  {
   "cell_type": "code",
   "execution_count": 2,
   "source": [
    "def load_data(path):\n",
    "    \"\"\"\n",
    "    Loads the particle dataset from a given path. Assign column names to the dataframe.\n",
    "    \"\"\"\n",
    "\n",
    "    low_level_fts = ['lepton pT', 'lepton eta', 'lepton phi', 'missing energy magnitude', 'missing energy phi',\n",
    "                     'jet 1 pt',\n",
    "                     'jet 1 eta', 'jet 1 phi', 'jet 1 b-tag', 'jet 2 pt', 'jet 2 eta', 'jet 2 phi', 'jet 2 b-tag',\n",
    "                     'jet 3 pt', 'jet 3 eta', 'jet 3 phi', 'jet 3 b-tag', 'jet 4 pt', 'jet 4 eta', 'jet 4 phi',\n",
    "                     'jet 4 b-tag']\n",
    "    high_level_fts = ['m_jj', 'm_jjj', 'm_lv', 'm_jlv', 'm_bb', 'm_wbb', 'm_wwbb']\n",
    "    columns = [\"class\"] + low_level_fts + high_level_fts\n",
    "\n",
    "    df = cudf.read_csv(path)\n",
    "    df.columns = columns\n",
    "\n",
    "    # assert that df has no nan values\n",
    "    assert not df.isna().values.any()\n",
    "\n",
    "    return df\n",
    "\n",
    "\n",
    "def to_float32(df, y_col):\n",
    "    \"\"\"\n",
    "    Convert the dataframe to float32. This is necessary for GPU based inference.\n",
    "    \"\"\"\n",
    "\n",
    "    x, y = df.drop(columns=y_col), df[y_col]\n",
    "    x = x.astype('float32')\n",
    "\n",
    "    df = x\n",
    "    df[y_col] = y\n",
    "    return df\n",
    "\n",
    "\n",
    "def scale(df, y_col):\n",
    "    \"\"\"\n",
    "    Scale the dataframe. Scaling helps to standardize the relative importance of features\n",
    "    by reducing their typical (unit) sizes to a common scale across all features.\n",
    "    Furthermore, scaling helps to reduce the runtime of the machine learning algorithms\n",
    "    and improves convergence\n",
    "    \"\"\"\n",
    "\n",
    "    x, y = df.drop(columns=y_col), df[y_col]\n",
    "\n",
    "    scaler = StandardScaler()\n",
    "    x[x.columns] = scaler.fit_transform(x[x.columns])\n",
    "\n",
    "    df = x\n",
    "    df[y_col] = y\n",
    "    return df\n",
    "\n",
    "\n",
    "def apply_PCA(df, n_components, y_col):\n",
    "    \"\"\"\n",
    "    Apply PCA to the dataframe. If n_components is None, then PCA is not applied.\n",
    "    \n",
    "    PCA finds a linear transformation to map high-dimensional data to a lower-dimensional\n",
    "    representation. The result is a set of new features (often called *components*).\n",
    "    The old features are discarded. Each of the new components explains a particular amount\n",
    "    of variance in the original data.\n",
    "    \"\"\"\n",
    "\n",
    "    if n_components is None:\n",
    "        return df\n",
    "\n",
    "    x, y = df.drop(columns=y_col), df[y_col]\n",
    "\n",
    "    pca = PCA(n_components=n_components)\n",
    "    pca.fit(x)\n",
    "    x = pca.transform(x)\n",
    "\n",
    "    df = x\n",
    "    df[y_col] = y\n",
    "    return df\n",
    "\n",
    "\n",
    "def split_train_valid_test(df, train_size, valid_size, test_size, shuffle=True):\n",
    "    \"\"\"\n",
    "    Split the dataframe into train, valid and test sets.\n",
    "    \"\"\"\n",
    "\n",
    "    assert math.isclose(1.0, train_size + valid_size + test_size, abs_tol=1e-9)\n",
    "\n",
    "    # shuffle df\n",
    "    if shuffle:\n",
    "        df = df.sample(frac=1)\n",
    "\n",
    "    train, valid, test = df.iloc[:int(train_size * len(df))], \\\n",
    "                         df.iloc[int(train_size * len(df)):int((train_size + valid_size) * len(df))], \\\n",
    "                         df.iloc[int((train_size + valid_size) * len(df)):]\n",
    "\n",
    "    return train, valid, test\n",
    "\n",
    "\n",
    "def split_x_y(train, valid, test, y_col):\n",
    "    \"\"\"\n",
    "    Splits each dataframe into x and y.\n",
    "    \"\"\"\n",
    "    train_x, train_y = train.drop(columns=[y_col]), train[y_col]\n",
    "    valid_x, valid_y = valid.drop(columns=[y_col]), valid[y_col]\n",
    "    test_x, test_y = test.drop(columns=[y_col]), test[y_col]\n",
    "\n",
    "    return train_x, train_y, valid_x, valid_y, test_x, test_y"
   ],
   "outputs": [],
   "metadata": {}
  },
  {
   "cell_type": "markdown",
   "source": [
    "## Pipeline\n",
    "\n",
    "The following section defines the pre-processing pipeline using the tasks defined aboved."
   ],
   "metadata": {}
  },
  {
   "cell_type": "code",
   "execution_count": 3,
   "source": [
    "def pipeline(params):\n",
    "    df = load_data(params[\"path\"])\n",
    "    df = to_float32(df, params[\"class_col\"])\n",
    "    df = scale(df, params[\"class_col\"])\n",
    "    df = apply_PCA(df, params[\"n_components\"], params[\"class_col\"])\n",
    "    train, valid, test = split_train_valid_test(df, params[\"train_size\"], params[\"valid_size\"], params[\"test_size\"],\n",
    "                                                shuffle=params[\"shuffle\"])\n",
    "    train_x, train_y, valid_x, valid_y, test_x, test_y = split_x_y(train, valid, test, y_col=params[\"class_col\"])\n",
    "    return train_x, train_y, valid_x, valid_y, test_x, test_y"
   ],
   "outputs": [],
   "metadata": {}
  },
  {
   "cell_type": "markdown",
   "source": [
    "The default parameters are defined as follows:"
   ],
   "metadata": {}
  },
  {
   "cell_type": "code",
   "execution_count": 4,
   "source": [
    "params = dict(\n",
    "    path=\"data/Partical.csv\",\n",
    "    class_col=\"class\",\n",
    "    shuffle=True,\n",
    "    n_components=None,\n",
    "    train_size=0.925,\n",
    "    valid_size=0.025,\n",
    "    test_size=0.05,\n",
    "    )"
   ],
   "outputs": [],
   "metadata": {}
  },
  {
   "cell_type": "markdown",
   "source": [
    "The dataset is divided into a train-, validation- and a test set, with a 92.5% / 2.5% / 5% split. Given the dataset's size, it can be assumed that 5\\% of the data sufficiently represents the distribution of the whole dataset; hence, typical splits such as 80/20 are not required. \n",
    "\n",
    "PCA will not be applied by default. More on PCA in the evaluation section."
   ],
   "metadata": {}
  },
  {
   "cell_type": "markdown",
   "source": [
    "# Exploratory Data Analysis"
   ],
   "metadata": {}
  },
  {
   "cell_type": "markdown",
   "source": [
    "The dataset consists of about 11 million observations of two types of events - background and signal. A background event is defined as all collisions that produce previously discovered particles. A signal event is defined as all collisions that produce new, undiscovered particles (or rather, their decay products). \n",
    "\n",
    "The observations were artificially generated using the mad-graph5 generator. Each observation consists of 21 low-level features and 7 high-level features.\n",
    "\n",
    "The 21 low-level features are composed of properties of the decay products of the observed particles. Each observation consists of the measured kinematic properties of 4 so-called jets, which are streams of particles and a lepton, which is an elementary particle. The measured properties of the jets and the lepton include\n",
    "\n",
    "- the momentum transverse to the beam direction, denoted as $p_{T}$ in the dataset\n",
    "- the angle $\\theta$ (theta)\n",
    "- the angle $\\phi$ (phi)\n",
    "\n",
    "Additionally, each observation contains information on whether a jet originates from a heavy quark ($b \\text{-quark}$) or other quarks and gluons; this information is referred to as the jet's $b\\text{-tag}$. Each jet has 3 possible $b\\text{-tags}$. Note that $b\\text{-tags}$ only exist for the 4 jets, not for the lepton. \n",
    "\n",
    "Furthermore, each observation contains information about the energy that has been carried away by the particles. These features are denoted as \\`missing energy phi' and  \\`missing energy magnitude'. In addition to the 21 low-level features, there are 7 high-level features that were manually developed by physicists -  denoted as m_jj, m_jjj, m_lv, m_jlv, m_bb, m_wbb, m_wwbb.\n",
    "\n",
    "---\n",
    "\n",
    "The following plots are defined in a separate .py file to keep the notebook organized. The `load_data(...)` function will be used (which is why the pre-processing steps were defined before the EDA)."
   ],
   "metadata": {}
  },
  {
   "cell_type": "code",
   "execution_count": 9,
   "source": [
    "df = load_data(\"data/Partical.csv\").to_pandas()"
   ],
   "outputs": [],
   "metadata": {}
  },
  {
   "cell_type": "markdown",
   "source": [
    "The class distribution is depicted in the figure below. Background events are denoted as $0.0$ and signal events as $1.0$. The class distribution is slightly skewed in favour of  the signal events. However, the imbalance is negligible. "
   ],
   "metadata": {}
  },
  {
   "cell_type": "code",
   "execution_count": 8,
   "source": [
    "plots.class_balance(df)"
   ],
   "outputs": [
    {
     "output_type": "display_data",
     "data": {
      "text/plain": [
       "<Figure size 432x288 with 0 Axes>"
      ]
     },
     "metadata": {}
    },
    {
     "output_type": "display_data",
     "data": {
      "text/plain": [
       "<Figure size 1080x576 with 1 Axes>"
      ],
      "image/png": "[encoded data removed]"
     },
     "metadata": {
      "needs_background": "light"
     }
    }
   ],
   "metadata": {}
  },
  {
   "cell_type": "markdown",
   "source": [
    "The following three figures show the momentum, phi and theta angles of the four jets and the lepton. The distribution of each of the features is relatively similar with only minor differences with respect to the outliers."
   ],
   "metadata": {}
  },
  {
   "cell_type": "code",
   "execution_count": 9,
   "source": [
    "plots.boxplot_jets_lepton_wrapper(df)"
   ],
   "outputs": [
    {
     "output_type": "display_data",
     "data": {
      "text/plain": [
       "<Figure size 432x288 with 0 Axes>"
      ]
     },
     "metadata": {}
    },
    {
     "output_type": "display_data",
     "data": {
      "text/plain": [
       "<Figure size 1080x576 with 1 Axes>"
      ],
      "image/png": "[encoded data removed]"
     },
     "metadata": {
      "needs_background": "light"
     }
    },
    {
     "output_type": "display_data",
     "data": {
      "text/plain": [
       "<Figure size 432x288 with 0 Axes>"
      ]
     },
     "metadata": {}
    },
    {
     "output_type": "display_data",
     "data": {
      "text/plain": [
       "<Figure size 1080x576 with 1 Axes>"
      ],
      "image/png": "[encoded data removed]"
     },
     "metadata": {
      "needs_background": "light"
     }
    },
    {
     "output_type": "display_data",
     "data": {
      "text/plain": [
       "<Figure size 432x288 with 0 Axes>"
      ]
     },
     "metadata": {}
    },
    {
     "output_type": "display_data",
     "data": {
      "text/plain": [
       "<Figure size 1080x576 with 1 Axes>"
      ],
      "image/png": "[encoded data removed]"
     },
     "metadata": {
      "needs_background": "light"
     }
    }
   ],
   "metadata": {}
  },
  {
   "cell_type": "markdown",
   "source": [
    "The b-tag, which is a shared feature between the jets, is shown in the figure below. The b-tags were binned the following intervals: $[0.0, 0.0]$ (only valid for a value $=0.0$), $(1.0, 2.0]$ and $(2.0, 3.0]$ as this were the most frequent ranges within b-tags feature. Note that all jets shared values of exactly $0.0$ but had distinct values from one another within the two other intervals. It can be observed that the amount of $0.0$ b-tags increases going from jet 1 to jet 4. This is due to a slight decrease in b-tags in the $(1.0, 2.0]$ interval but mostly due to the decrease of b-tags within the $(2.0, 3.0]$ interval. Thus, despite the majority of the shared features of jets and leptons having a high correlation with respect to their distribution, the jets' b-tag shows significant dissimilarities. "
   ],
   "metadata": {}
  },
  {
   "cell_type": "code",
   "execution_count": 11,
   "source": [
    "plots.btags(df)"
   ],
   "outputs": [
    {
     "output_type": "display_data",
     "data": {
      "text/plain": [
       "<Figure size 1080x576 with 1 Axes>"
      ],
      "image/png": "[encoded data removed]"
     },
     "metadata": {
      "needs_background": "light"
     }
    }
   ],
   "metadata": {}
  },
  {
   "cell_type": "markdown",
   "source": [
    "The distribution of the missing energy features is illustrated in the figure below. The boxplots show a significant dissimilarity which is most likely due to both features using different units and are thus not directly comparable. The missing energy magnitude shows a significant number of outliers with values up to 15 times the median. "
   ],
   "metadata": {}
  },
  {
   "cell_type": "code",
   "execution_count": 12,
   "source": [
    "plots.missing_boxplot(df)"
   ],
   "outputs": [
    {
     "output_type": "display_data",
     "data": {
      "text/plain": [
       "<Figure size 432x288 with 0 Axes>"
      ]
     },
     "metadata": {}
    },
    {
     "output_type": "display_data",
     "data": {
      "text/plain": [
       "<Figure size 1080x576 with 1 Axes>"
      ],
      "image/png": "[encoded data removed]"
     },
     "metadata": {
      "needs_background": "light"
     }
    }
   ],
   "metadata": {}
  },
  {
   "cell_type": "markdown",
   "source": [
    "The seven high-level features are depicted in the figure below. Note that the outliers were omitted in favour of visualisation purposes. As with the missing energy distributions, the distributions of the high-level features show a significant dissimilarity. "
   ],
   "metadata": {}
  },
  {
   "cell_type": "code",
   "execution_count": 13,
   "source": [
    "plots.high_level_features_boxplots(df)"
   ],
   "outputs": [
    {
     "output_type": "display_data",
     "data": {
      "text/plain": [
       "<Figure size 432x288 with 0 Axes>"
      ]
     },
     "metadata": {}
    },
    {
     "output_type": "display_data",
     "data": {
      "text/plain": [
       "<Figure size 1080x576 with 1 Axes>"
      ],
      "image/png": "[encoded data removed]"
     },
     "metadata": {
      "needs_background": "light"
     }
    }
   ],
   "metadata": {}
  },
  {
   "cell_type": "markdown",
   "source": [
    "Finally, the correlations between the numeric features are shown in the next figure. Note that the b-tags of the jets are considered categorical features and are, therefore, like the class labels, excluded from the correlation matrix. Note that almost no features are negatively correlated. \n",
    "\n",
    "Despite the similarities in the distributions of the shared features of the jets and the lepton, they do show very little correlation between each other. The only significant positive linear relationship exists between the high-level features (m_jj, m_jjj, m_lv, m_jlv, m_bb, m_wbb, m_wwbb), depicted in the lower right corner of the correlation matrix. Given the correlation between the high-level features and the magnitude of the jets and the lepton (each denoted as pt), it is likely that the features developed by the physicists are partially based on these properties. "
   ],
   "metadata": {}
  },
  {
   "cell_type": "code",
   "execution_count": 10,
   "source": [
    "plots.cm(df)"
   ],
   "outputs": [
    {
     "output_type": "display_data",
     "data": {
      "text/plain": [
       "<Figure size 1080x576 with 2 Axes>"
      ],
      "image/png": "[encoded data removed]"
     },
     "metadata": {
      "needs_background": "light"
     }
    }
   ],
   "metadata": {}
  },
  {
   "cell_type": "markdown",
   "source": [
    "# Model selection\n",
    "\n",
    "Unfortunately, there is no way to predict which model will perform best in advance. Therefore, a variety of classifiers are tested along with a respective searchspace.\n",
    "\n",
    "The selected classifier are Logistic Regression, Random Forest and XGBoost. SVM can not be used due to hardware limitations (runs out of GPU memory during the process). "
   ],
   "metadata": {}
  },
  {
   "cell_type": "markdown",
   "source": [
    "## Hyperparameter tuning\n",
    "\n",
    "[Optuna](https://optuna.org/) will be used for hyperparameter tuning since it supports more advanced search algorithms and natively supports RAPIDS. \n",
    "Instead of Grid Search, the TPE (Tree-structured Parzen Estimator) Sampler will be used. Grid search is inefficient for large search spaces, and the scikit-learn implementation doesn't support RAPIDS.\n",
    "The TPE Sampler utilises a standard Random Search for the first ten trials and then selects consecutive sets of hyperparameters based on a model that attempts to approximate the performance of the selected hyperparameters. \n",
    "\n",
    "The performance of each trial will be measured by the accuracy on the validation set. As the dataset is relatively balanced (see EDA), the accuracy is a suitable metric to compare the various optimisation trials.\n",
    "\n",
    "The validation set will be used for evaluation rather than the test set, as the selected hyperparameters may be biased towards the subset on which they were evaluated on. \n",
    "The performance on the training set is, in general, not a good indicator for generalisation performance as the model might have been overfitted.\n",
    "\n",
    "Besides the accuracy, additional metrics will be provided for the best performing model."
   ],
   "metadata": {}
  },
  {
   "cell_type": "markdown",
   "source": [
    "## Searchspaces"
   ],
   "metadata": {}
  },
  {
   "cell_type": "markdown",
   "source": [
    "The classifiers employed, as well as their search spaces, are defined below. The `trial` argument is used by Optuna to select hyperparameters from the predefined intervals."
   ],
   "metadata": {}
  },
  {
   "cell_type": "code",
   "execution_count": 5,
   "source": [
    "# Logistic Regression\n",
    "def lr_searchspace(trial):\n",
    "    return {\n",
    "        \"clf\": LogisticRegression,\n",
    "        \"penalty\": trial.suggest_categorical('penalty', ['l1', 'l2']),\n",
    "        \"C\": trial.suggest_float('C', 1e-5, 1e5, log=True),\n",
    "    }\n",
    "\n",
    "\n",
    "# XGBoost\n",
    "def xgb_searchspace(trial):\n",
    "    return {\n",
    "        \"clf\": xgb.XGBClassifier,\n",
    "        'n_estimators': trial.suggest_int('n_estimators', 100, 300),\n",
    "        'max_depth': trial.suggest_int('max_depth', 3, 20),\n",
    "        'min_child_weight': trial.suggest_int('min_child_weight', 1, 9),\n",
    "        'learning_rate': trial.suggest_float('learning_rate', 0.1, 0.4),\n",
    "        'tree_method': \"gpu_hist\",\n",
    "        'use_label_encoder': False,\n",
    "        'eval_metric': 'logloss',\n",
    "    }\n",
    "\n",
    "\n",
    "# Random Forest\n",
    "def rf_searchspace(trial):\n",
    "    return {\n",
    "        \"clf\": RandomForestClassifier,\n",
    "        'n_estimators': trial.suggest_int('n_estimators', 100, 300),\n",
    "        'max_depth': trial.suggest_int('max_depth', 3, 20),\n",
    "        'min_samples_split': trial.suggest_int('min_samples_split', 2, 9),\n",
    "    }"
   ],
   "outputs": [],
   "metadata": {}
  },
  {
   "cell_type": "markdown",
   "source": [
    "## Objective\n",
    "\n",
    "Each Optuna trial calls the objective function. Within the objective function, a classifier is fit on the training set and evaluated on the validation set. The returned score of each trial is given by the accuracy on the validation set."
   ],
   "metadata": {}
  },
  {
   "cell_type": "code",
   "execution_count": 6,
   "source": [
    "def objective(searchspace, x_train, y_train, x_valid, y_valid, trial):\n",
    "    trial_searchspace = searchspace(trial)\n",
    "    clf = trial_searchspace.pop('clf')\n",
    "\n",
    "    model = clf(**trial_searchspace)\n",
    "\n",
    "    model.fit(x_train, y_train)\n",
    "    y_pred = model.predict(x_valid)\n",
    "\n",
    "    return accuracy_score(y_valid, y_pred)"
   ],
   "outputs": [],
   "metadata": {}
  },
  {
   "cell_type": "markdown",
   "source": [
    "## Tuning\n",
    "\n",
    "The function below wraps the Optuna hyperparameter search."
   ],
   "metadata": {}
  },
  {
   "cell_type": "code",
   "execution_count": 7,
   "source": [
    "def run_hpo(search_space, x_train, y_train, x_valid, y_valid, n_trials):\n",
    "    study = optuna.create_study(direction='maximize', sampler=optuna.samplers.TPESampler())\n",
    "    study.optimize(partial(objective, search_space, x_train, y_train, x_valid, y_valid), gc_after_trial=True,\n",
    "                   n_trials=n_trials, timeout=None)\n",
    "                   \n",
    "    print(f\"Best value: {study.best_value}\\n\"\n",
    "          f\"Best params: {study.best_params}\")"
   ],
   "outputs": [],
   "metadata": {}
  },
  {
   "cell_type": "markdown",
   "source": [
    "We can now run the pre-processing pipeline and then call the helper function on each of the search spaces/classifiers defined above. \n",
    "\n",
    "As a reminder, these are the pre-processing parameters defined previously:"
   ],
   "metadata": {}
  },
  {
   "cell_type": "code",
   "execution_count": 8,
   "source": [
    "params"
   ],
   "outputs": [
    {
     "output_type": "execute_result",
     "data": {
      "text/plain": [
       "{'path': 'data/Partical.csv',\n",
       " 'class_col': 'class',\n",
       " 'shuffle': True,\n",
       " 'n_components': None,\n",
       " 'train_size': 0.925,\n",
       " 'valid_size': 0.025,\n",
       " 'test_size': 0.05}"
      ]
     },
     "metadata": {},
     "execution_count": 8
    }
   ],
   "metadata": {}
  },
  {
   "cell_type": "code",
   "execution_count": 6,
   "source": [
    "train_x, train_y, valid_x, valid_y, test_x, test_y = pipeline(params)"
   ],
   "outputs": [],
   "metadata": {}
  },
  {
   "cell_type": "markdown",
   "source": [
    "We set the number of trials to 25 for all three search spaces. Note that the first ten trials utilise regular Random Search."
   ],
   "metadata": {}
  },
  {
   "cell_type": "code",
   "execution_count": 10,
   "source": [
    "n_trials = 25"
   ],
   "outputs": [],
   "metadata": {}
  },
  {
   "cell_type": "markdown",
   "source": [
    "### Logistic Regression"
   ],
   "metadata": {}
  },
  {
   "cell_type": "code",
   "execution_count": 34,
   "source": [
    "run_hpo(lr_searchspace, train_x, train_y, test_x, test_y, n_trials)"
   ],
   "outputs": [
    {
     "output_type": "stream",
     "name": "stderr",
     "text": [
      "\u001b[32m[I 2022-04-14 15:21:31,937]\u001b[0m A new study created in memory with name: no-name-3dc88a22-86d5-477f-8812-b2087cab5a60\u001b[0m\n",
      "\u001b[32m[I 2022-04-14 15:21:32,117]\u001b[0m Trial 0 finished with value: 0.6360145211219788 and parameters: {'penalty': 'l2', 'C': 1.2700635099175363e-05}. Best is trial 0 with value: 0.6360145211219788.\u001b[0m\n",
      "\u001b[32m[I 2022-04-14 15:21:32,595]\u001b[0m Trial 1 finished with value: 0.6407982110977173 and parameters: {'penalty': 'l1', 'C': 0.00014936640578933178}. Best is trial 1 with value: 0.6407982110977173.\u001b[0m\n"
     ]
    },
    {
     "output_type": "stream",
     "name": "stdout",
     "text": [
      "[W] [15:21:32.570247] QWL-QN stopped, because the line search failed to advance (step delta = 0.000000)\n"
     ]
    },
    {
     "output_type": "stream",
     "name": "stderr",
     "text": [
      "\u001b[32m[I 2022-04-14 15:21:33,748]\u001b[0m Trial 2 finished with value: 0.641076385974884 and parameters: {'penalty': 'l2', 'C': 2141.4849632763608}. Best is trial 2 with value: 0.641076385974884.\u001b[0m\n",
      "\u001b[32m[I 2022-04-14 15:21:34,310]\u001b[0m Trial 3 finished with value: 0.6408600211143494 and parameters: {'penalty': 'l1', 'C': 0.00017206370402177002}. Best is trial 2 with value: 0.641076385974884.\u001b[0m\n"
     ]
    },
    {
     "output_type": "stream",
     "name": "stdout",
     "text": [
      "[W] [15:21:34.286439] QWL-QN stopped, because the line search failed to advance (step delta = 0.000000)\n"
     ]
    },
    {
     "output_type": "stream",
     "name": "stderr",
     "text": [
      "\u001b[32m[I 2022-04-14 15:21:35,133]\u001b[0m Trial 4 finished with value: 0.641294538974762 and parameters: {'penalty': 'l1', 'C': 0.0012269267006931788}. Best is trial 4 with value: 0.641294538974762.\u001b[0m\n"
     ]
    },
    {
     "output_type": "stream",
     "name": "stdout",
     "text": [
      "[W] [15:21:35.108619] QWL-QN stopped, because the line search failed to advance (step delta = 0.000000)\n"
     ]
    },
    {
     "output_type": "stream",
     "name": "stderr",
     "text": [
      "\u001b[32m[I 2022-04-14 15:21:35,620]\u001b[0m Trial 5 finished with value: 0.6408218145370483 and parameters: {'penalty': 'l1', 'C': 0.0001099919656770181}. Best is trial 4 with value: 0.641294538974762.\u001b[0m\n"
     ]
    },
    {
     "output_type": "stream",
     "name": "stdout",
     "text": [
      "[W] [15:21:35.597026] QWL-QN stopped, because the line search failed to advance (step delta = 0.000000)\n"
     ]
    },
    {
     "output_type": "stream",
     "name": "stderr",
     "text": [
      "\u001b[32m[I 2022-04-14 15:21:36,331]\u001b[0m Trial 6 finished with value: 0.6409963369369507 and parameters: {'penalty': 'l2', 'C': 0.0012029071545355445}. Best is trial 4 with value: 0.641294538974762.\u001b[0m\n"
     ]
    },
    {
     "output_type": "stream",
     "name": "stdout",
     "text": [
      "[W] [15:21:36.308024] L-BFGS stopped, because the line search failed to advance (step delta = 0.000000)\n"
     ]
    },
    {
     "output_type": "stream",
     "name": "stderr",
     "text": [
      "\u001b[32m[I 2022-04-14 15:21:36,959]\u001b[0m Trial 7 finished with value: 0.6408127546310425 and parameters: {'penalty': 'l2', 'C': 0.00026760060684957585}. Best is trial 4 with value: 0.641294538974762.\u001b[0m\n"
     ]
    },
    {
     "output_type": "stream",
     "name": "stdout",
     "text": [
      "[W] [15:21:36.935741] L-BFGS stopped, because the line search failed to advance (step delta = 0.000000)\n"
     ]
    },
    {
     "output_type": "stream",
     "name": "stderr",
     "text": [
      "\u001b[32m[I 2022-04-14 15:21:37,918]\u001b[0m Trial 8 finished with value: 0.6409708857536316 and parameters: {'penalty': 'l1', 'C': 0.01704565629299306}. Best is trial 4 with value: 0.641294538974762.\u001b[0m\n"
     ]
    },
    {
     "output_type": "stream",
     "name": "stdout",
     "text": [
      "[W] [15:21:37.895270] QWL-QN stopped, because the line search failed to advance (step delta = 0.000000)\n"
     ]
    },
    {
     "output_type": "stream",
     "name": "stderr",
     "text": [
      "\u001b[32m[I 2022-04-14 15:21:38,156]\u001b[0m Trial 9 finished with value: 0.6391800045967102 and parameters: {'penalty': 'l2', 'C': 4.087283340472617e-05}. Best is trial 4 with value: 0.641294538974762.\u001b[0m\n",
      "\u001b[32m[I 2022-04-14 15:21:39,246]\u001b[0m Trial 10 finished with value: 0.6410072445869446 and parameters: {'penalty': 'l1', 'C': 4.46621454794426}. Best is trial 4 with value: 0.641294538974762.\u001b[0m\n",
      "\u001b[32m[I 2022-04-14 15:21:39,979]\u001b[0m Trial 11 finished with value: 0.641112744808197 and parameters: {'penalty': 'l2', 'C': 11825.362342130802}. Best is trial 4 with value: 0.641294538974762.\u001b[0m\n"
     ]
    },
    {
     "output_type": "stream",
     "name": "stdout",
     "text": [
      "[W] [15:21:39.956327] L-BFGS stopped, because the line search failed to advance (step delta = 0.000000)\n"
     ]
    },
    {
     "output_type": "stream",
     "name": "stderr",
     "text": [
      "\u001b[32m[I 2022-04-14 15:21:40,813]\u001b[0m Trial 12 finished with value: 0.641185462474823 and parameters: {'penalty': 'l1', 'C': 10239.430760134084}. Best is trial 4 with value: 0.641294538974762.\u001b[0m\n",
      "\u001b[32m[I 2022-04-14 15:21:41,862]\u001b[0m Trial 13 finished with value: 0.6410054564476013 and parameters: {'penalty': 'l1', 'C': 39.4443481848683}. Best is trial 4 with value: 0.641294538974762.\u001b[0m\n",
      "\u001b[32m[I 2022-04-14 15:21:42,832]\u001b[0m Trial 14 finished with value: 0.6410108804702759 and parameters: {'penalty': 'l1', 'C': 0.13739017163227343}. Best is trial 4 with value: 0.641294538974762.\u001b[0m\n",
      "\u001b[32m[I 2022-04-14 15:21:43,354]\u001b[0m Trial 15 finished with value: 0.6410090923309326 and parameters: {'penalty': 'l1', 'C': 94620.70568510437}. Best is trial 4 with value: 0.641294538974762.\u001b[0m\n"
     ]
    },
    {
     "output_type": "stream",
     "name": "stdout",
     "text": [
      "[W] [15:21:43.331024] QWL-QN stopped, because the line search failed to advance (step delta = 0.000000)\n"
     ]
    },
    {
     "output_type": "stream",
     "name": "stderr",
     "text": [
      "\u001b[32m[I 2022-04-14 15:21:43,832]\u001b[0m Trial 16 finished with value: 0.6411363482475281 and parameters: {'penalty': 'l1', 'C': 148.12650198141978}. Best is trial 4 with value: 0.641294538974762.\u001b[0m\n"
     ]
    },
    {
     "output_type": "stream",
     "name": "stdout",
     "text": [
      "[W] [15:21:43.808591] QWL-QN stopped, because the line search failed to advance (step delta = 0.000000)\n"
     ]
    },
    {
     "output_type": "stream",
     "name": "stderr",
     "text": [
      "\u001b[32m[I 2022-04-14 15:21:44,257]\u001b[0m Trial 17 finished with value: 0.6411527395248413 and parameters: {'penalty': 'l1', 'C': 0.010099007597747676}. Best is trial 4 with value: 0.641294538974762.\u001b[0m\n",
      "\u001b[32m[I 2022-04-14 15:21:44,784]\u001b[0m Trial 18 finished with value: 0.6410090923309326 and parameters: {'penalty': 'l1', 'C': 0.8834926950100132}. Best is trial 4 with value: 0.641294538974762.\u001b[0m\n"
     ]
    },
    {
     "output_type": "stream",
     "name": "stdout",
     "text": [
      "[W] [15:21:44.761430] QWL-QN stopped, because the line search failed to advance (step delta = 0.000000)\n"
     ]
    },
    {
     "output_type": "stream",
     "name": "stderr",
     "text": [
      "\u001b[32m[I 2022-04-14 15:21:45,471]\u001b[0m Trial 19 finished with value: 0.6410054564476013 and parameters: {'penalty': 'l1', 'C': 301.9699808926056}. Best is trial 4 with value: 0.641294538974762.\u001b[0m\n"
     ]
    },
    {
     "output_type": "stream",
     "name": "stdout",
     "text": [
      "[W] [15:21:45.447850] QWL-QN stopped, because the line search failed to advance (step delta = 0.000000)\n"
     ]
    },
    {
     "output_type": "stream",
     "name": "stderr",
     "text": [
      "\u001b[32m[I 2022-04-14 15:21:46,438]\u001b[0m Trial 20 finished with value: 0.6410145163536072 and parameters: {'penalty': 'l1', 'C': 8.494743617715645}. Best is trial 4 with value: 0.641294538974762.\u001b[0m\n"
     ]
    },
    {
     "output_type": "stream",
     "name": "stdout",
     "text": [
      "[W] [15:21:46.414907] QWL-QN stopped, because the line search failed to advance (step delta = 0.000000)\n"
     ]
    },
    {
     "output_type": "stream",
     "name": "stderr",
     "text": [
      "\u001b[32m[I 2022-04-14 15:21:47,505]\u001b[0m Trial 21 finished with value: 0.640963613986969 and parameters: {'penalty': 'l1', 'C': 0.008407288204565436}. Best is trial 4 with value: 0.641294538974762.\u001b[0m\n"
     ]
    },
    {
     "output_type": "stream",
     "name": "stdout",
     "text": [
      "[W] [15:21:47.477224] QWL-QN stopped, because the line search failed to advance (step delta = 0.000000)\n"
     ]
    },
    {
     "output_type": "stream",
     "name": "stderr",
     "text": [
      "\u001b[32m[I 2022-04-14 15:21:48,367]\u001b[0m Trial 22 finished with value: 0.6411508917808533 and parameters: {'penalty': 'l1', 'C': 0.00592997046286408}. Best is trial 4 with value: 0.641294538974762.\u001b[0m\n"
     ]
    },
    {
     "output_type": "stream",
     "name": "stdout",
     "text": [
      "[W] [15:21:48.343906] QWL-QN stopped, because the line search failed to advance (step delta = 0.000000)\n"
     ]
    },
    {
     "output_type": "stream",
     "name": "stderr",
     "text": [
      "\u001b[32m[I 2022-04-14 15:21:49,510]\u001b[0m Trial 23 finished with value: 0.6409836411476135 and parameters: {'penalty': 'l1', 'C': 0.09791219514951881}. Best is trial 4 with value: 0.641294538974762.\u001b[0m\n",
      "\u001b[32m[I 2022-04-14 15:21:50,065]\u001b[0m Trial 24 finished with value: 0.6412909030914307 and parameters: {'penalty': 'l1', 'C': 0.001840914657337644}. Best is trial 4 with value: 0.641294538974762.\u001b[0m\n"
     ]
    },
    {
     "output_type": "stream",
     "name": "stdout",
     "text": [
      "[W] [15:21:50.042423] QWL-QN stopped, because the line search failed to advance (step delta = 0.000000)\n",
      "Best value: 0.641294538974762\n",
      "Best params: {'penalty': 'l1', 'C': 0.0012269267006931788}\n"
     ]
    }
   ],
   "metadata": {}
  },
  {
   "cell_type": "markdown",
   "source": [
    "As we can see, the different trials achieved very similar accuracy scores, with the highest being around 64%."
   ],
   "metadata": {}
  },
  {
   "cell_type": "markdown",
   "source": [
    "### Random Forest"
   ],
   "metadata": {}
  },
  {
   "cell_type": "code",
   "execution_count": 14,
   "source": [
    "run_hpo(rf_searchspace, train_x, train_y, test_x, test_y, n_trials)"
   ],
   "outputs": [
    {
     "output_type": "stream",
     "name": "stderr",
     "text": [
      "\u001b[32m[I 2022-04-14 15:29:31,953]\u001b[0m A new study created in memory with name: no-name-0aded026-7ab3-4685-add4-3d4f9e3cf0da\u001b[0m\n",
      "\u001b[32m[I 2022-04-14 15:30:15,410]\u001b[0m Trial 0 finished with value: 0.7200400233268738 and parameters: {'n_estimators': 165, 'max_depth': 12, 'min_samples_split': 5}. Best is trial 0 with value: 0.7200400233268738.\u001b[0m\n",
      "\u001b[32m[I 2022-04-14 15:30:50,926]\u001b[0m Trial 1 finished with value: 0.7106963396072388 and parameters: {'n_estimators': 147, 'max_depth': 10, 'min_samples_split': 5}. Best is trial 0 with value: 0.7200400233268738.\u001b[0m\n",
      "\u001b[32m[I 2022-04-14 15:31:34,299]\u001b[0m Trial 2 finished with value: 0.7058290839195251 and parameters: {'n_estimators': 188, 'max_depth': 9, 'min_samples_split': 2}. Best is trial 0 with value: 0.7200400233268738.\u001b[0m\n",
      "\u001b[32m[I 2022-04-14 15:32:15,110]\u001b[0m Trial 3 finished with value: 0.7275745272636414 and parameters: {'n_estimators': 142, 'max_depth': 14, 'min_samples_split': 6}. Best is trial 3 with value: 0.7275745272636414.\u001b[0m\n",
      "\u001b[32m[I 2022-04-14 15:33:02,501]\u001b[0m Trial 4 finished with value: 0.6608418226242065 and parameters: {'n_estimators': 287, 'max_depth': 4, 'min_samples_split': 6}. Best is trial 3 with value: 0.7275745272636414.\u001b[0m\n",
      "\u001b[32m[I 2022-04-14 15:34:03,619]\u001b[0m Trial 5 finished with value: 0.7443509101867676 and parameters: {'n_estimators': 159, 'max_depth': 20, 'min_samples_split': 3}. Best is trial 5 with value: 0.7443509101867676.\u001b[0m\n",
      "\u001b[32m[I 2022-04-14 15:34:39,695]\u001b[0m Trial 6 finished with value: 0.6782199740409851 and parameters: {'n_estimators': 202, 'max_depth': 5, 'min_samples_split': 4}. Best is trial 5 with value: 0.7443509101867676.\u001b[0m\n",
      "\u001b[32m[I 2022-04-14 15:35:17,853]\u001b[0m Trial 7 finished with value: 0.6997763514518738 and parameters: {'n_estimators': 175, 'max_depth': 8, 'min_samples_split': 3}. Best is trial 5 with value: 0.7443509101867676.\u001b[0m\n",
      "\u001b[32m[I 2022-04-14 15:36:29,193]\u001b[0m Trial 8 finished with value: 0.7109000086784363 and parameters: {'n_estimators': 295, 'max_depth': 10, 'min_samples_split': 3}. Best is trial 5 with value: 0.7443509101867676.\u001b[0m\n",
      "\u001b[32m[I 2022-04-14 15:37:07,092]\u001b[0m Trial 9 finished with value: 0.7056545615196228 and parameters: {'n_estimators': 165, 'max_depth': 9, 'min_samples_split': 7}. Best is trial 5 with value: 0.7443509101867676.\u001b[0m\n",
      "\u001b[32m[I 2022-04-14 15:37:46,168]\u001b[0m Trial 10 finished with value: 0.7436000108718872 and parameters: {'n_estimators': 101, 'max_depth': 20, 'min_samples_split': 8}. Best is trial 5 with value: 0.7443509101867676.\u001b[0m\n",
      "\u001b[32m[I 2022-04-14 15:38:25,922]\u001b[0m Trial 11 finished with value: 0.7412545680999756 and parameters: {'n_estimators': 107, 'max_depth': 19, 'min_samples_split': 9}. Best is trial 5 with value: 0.7443509101867676.\u001b[0m\n",
      "\u001b[32m[I 2022-04-14 15:39:06,631]\u001b[0m Trial 12 finished with value: 0.7434345483779907 and parameters: {'n_estimators': 105, 'max_depth': 20, 'min_samples_split': 9}. Best is trial 5 with value: 0.7443509101867676.\u001b[0m\n",
      "\u001b[32m[I 2022-04-14 15:40:23,328]\u001b[0m Trial 13 finished with value: 0.7366381883621216 and parameters: {'n_estimators': 224, 'max_depth': 17, 'min_samples_split': 8}. Best is trial 5 with value: 0.7443509101867676.\u001b[0m\n",
      "\u001b[32m[I 2022-04-14 15:41:05,239]\u001b[0m Trial 14 finished with value: 0.7335799932479858 and parameters: {'n_estimators': 127, 'max_depth': 16, 'min_samples_split': 7}. Best is trial 5 with value: 0.7443509101867676.\u001b[0m\n",
      "\u001b[32m[I 2022-04-14 15:42:24,848]\u001b[0m Trial 15 finished with value: 0.7370127439498901 and parameters: {'n_estimators': 235, 'max_depth': 17, 'min_samples_split': 4}. Best is trial 5 with value: 0.7443509101867676.\u001b[0m\n",
      "\u001b[32m[I 2022-04-14 15:43:14,038]\u001b[0m Trial 16 finished with value: 0.7443454265594482 and parameters: {'n_estimators': 127, 'max_depth': 20, 'min_samples_split': 2}. Best is trial 5 with value: 0.7443509101867676.\u001b[0m\n",
      "\u001b[32m[I 2022-04-14 15:43:54,556]\u001b[0m Trial 17 finished with value: 0.7307036519050598 and parameters: {'n_estimators': 134, 'max_depth': 15, 'min_samples_split': 2}. Best is trial 5 with value: 0.7443509101867676.\u001b[0m\n",
      "\u001b[32m[I 2022-04-14 15:45:08,784]\u001b[0m Trial 18 finished with value: 0.739470899105072 and parameters: {'n_estimators': 209, 'max_depth': 18, 'min_samples_split': 3}. Best is trial 5 with value: 0.7443509101867676.\u001b[0m\n",
      "\u001b[32m[I 2022-04-14 15:45:43,901]\u001b[0m Trial 19 finished with value: 0.7237181663513184 and parameters: {'n_estimators': 125, 'max_depth': 13, 'min_samples_split': 2}. Best is trial 5 with value: 0.7443509101867676.\u001b[0m\n",
      "\u001b[32m[I 2022-04-14 15:47:17,462]\u001b[0m Trial 20 finished with value: 0.7396527528762817 and parameters: {'n_estimators': 264, 'max_depth': 18, 'min_samples_split': 4}. Best is trial 5 with value: 0.7443509101867676.\u001b[0m\n",
      "\u001b[32m[I 2022-04-14 15:47:59,367]\u001b[0m Trial 21 finished with value: 0.7436836361885071 and parameters: {'n_estimators': 110, 'max_depth': 20, 'min_samples_split': 8}. Best is trial 5 with value: 0.7443509101867676.\u001b[0m\n",
      "\u001b[32m[I 2022-04-14 15:48:57,595]\u001b[0m Trial 22 finished with value: 0.7441872954368591 and parameters: {'n_estimators': 152, 'max_depth': 20, 'min_samples_split': 3}. Best is trial 5 with value: 0.7443509101867676.\u001b[0m\n",
      "\u001b[32m[I 2022-04-14 15:49:53,075]\u001b[0m Trial 23 finished with value: 0.7394636273384094 and parameters: {'n_estimators': 155, 'max_depth': 18, 'min_samples_split': 3}. Best is trial 5 with value: 0.7443509101867676.\u001b[0m\n",
      "\u001b[32m[I 2022-04-14 15:50:55,359]\u001b[0m Trial 24 finished with value: 0.7337709069252014 and parameters: {'n_estimators': 188, 'max_depth': 16, 'min_samples_split': 2}. Best is trial 5 with value: 0.7443509101867676.\u001b[0m\n"
     ]
    },
    {
     "output_type": "stream",
     "name": "stdout",
     "text": [
      "Best value: 0.7443509101867676\n",
      "Best params: {'n_estimators': 159, 'max_depth': 20, 'min_samples_split': 3}\n"
     ]
    }
   ],
   "metadata": {}
  },
  {
   "cell_type": "markdown",
   "source": [
    "In contrast to the logistic regression, the random forest algorithm is more sensitive to hyperparameter changes. The best trial achieved an accuracy of around 74%, which is about 10% more than the logistic regression."
   ],
   "metadata": {}
  },
  {
   "cell_type": "markdown",
   "source": [
    "### XGBoost"
   ],
   "metadata": {}
  },
  {
   "cell_type": "code",
   "execution_count": 11,
   "source": [
    "run_hpo(xgb_searchspace, train_x, train_y, test_x, test_y, n_trials)"
   ],
   "outputs": [
    {
     "output_type": "stream",
     "name": "stderr",
     "text": [
      "\u001b[32m[I 2022-04-14 16:43:41,768]\u001b[0m A new study created in memory with name: no-name-e7624690-9ea5-4e1d-8dce-fa3664fc5544\u001b[0m\n",
      "\u001b[32m[I 2022-04-14 16:45:13,907]\u001b[0m Trial 0 finished with value: 0.7673327326774597 and parameters: {'n_estimators': 221, 'max_depth': 14, 'min_child_weight': 2, 'learning_rate': 0.20785307508995754}. Best is trial 0 with value: 0.7673327326774597.\u001b[0m\n",
      "\u001b[32m[I 2022-04-14 16:45:21,536]\u001b[0m Trial 1 finished with value: 0.7494817972183228 and parameters: {'n_estimators': 272, 'max_depth': 6, 'min_child_weight': 2, 'learning_rate': 0.22200841167428115}. Best is trial 0 with value: 0.7673327326774597.\u001b[0m\n",
      "\u001b[32m[I 2022-04-14 16:51:59,390]\u001b[0m Trial 2 finished with value: 0.7652890682220459 and parameters: {'n_estimators': 286, 'max_depth': 19, 'min_child_weight': 8, 'learning_rate': 0.32324936378858227}. Best is trial 0 with value: 0.7673327326774597.\u001b[0m\n",
      "\u001b[32m[I 2022-04-14 16:56:42,582]\u001b[0m Trial 3 finished with value: 0.7654181718826294 and parameters: {'n_estimators': 137, 'max_depth': 18, 'min_child_weight': 2, 'learning_rate': 0.21489956118520662}. Best is trial 0 with value: 0.7673327326774597.\u001b[0m\n",
      "\u001b[32m[I 2022-04-14 16:56:48,835]\u001b[0m Trial 4 finished with value: 0.7381654381752014 and parameters: {'n_estimators': 255, 'max_depth': 5, 'min_child_weight': 8, 'learning_rate': 0.11178480192118599}. Best is trial 0 with value: 0.7673327326774597.\u001b[0m\n",
      "\u001b[32m[I 2022-04-14 16:57:01,399]\u001b[0m Trial 5 finished with value: 0.7601381540298462 and parameters: {'n_estimators': 220, 'max_depth': 9, 'min_child_weight': 5, 'learning_rate': 0.2927829779287362}. Best is trial 0 with value: 0.7673327326774597.\u001b[0m\n",
      "\u001b[32m[I 2022-04-14 16:58:28,757]\u001b[0m Trial 6 finished with value: 0.7605545520782471 and parameters: {'n_estimators': 183, 'max_depth': 15, 'min_child_weight': 5, 'learning_rate': 0.3675179607443225}. Best is trial 0 with value: 0.7673327326774597.\u001b[0m\n",
      "\u001b[32m[I 2022-04-14 16:58:42,645]\u001b[0m Trial 7 finished with value: 0.7595272660255432 and parameters: {'n_estimators': 248, 'max_depth': 9, 'min_child_weight': 9, 'learning_rate': 0.18075683746205168}. Best is trial 0 with value: 0.7673327326774597.\u001b[0m\n",
      "\u001b[32m[I 2022-04-14 17:04:36,966]\u001b[0m Trial 8 finished with value: 0.7685854434967041 and parameters: {'n_estimators': 246, 'max_depth': 19, 'min_child_weight': 8, 'learning_rate': 0.2194283579791612}. Best is trial 8 with value: 0.7685854434967041.\u001b[0m\n",
      "\u001b[32m[I 2022-04-14 17:04:39,277]\u001b[0m Trial 9 finished with value: 0.7211654782295227 and parameters: {'n_estimators': 110, 'max_depth': 3, 'min_child_weight': 8, 'learning_rate': 0.19151985259255674}. Best is trial 8 with value: 0.7685854434967041.\u001b[0m\n",
      "\u001b[32m[I 2022-04-14 17:13:28,892]\u001b[0m Trial 10 finished with value: 0.7707454562187195 and parameters: {'n_estimators': 195, 'max_depth': 20, 'min_child_weight': 6, 'learning_rate': 0.11149713049072554}. Best is trial 10 with value: 0.7707454562187195.\u001b[0m\n",
      "\u001b[32m[I 2022-04-14 17:22:10,433]\u001b[0m Trial 11 finished with value: 0.7706945538520813 and parameters: {'n_estimators': 187, 'max_depth': 20, 'min_child_weight': 6, 'learning_rate': 0.10826840913890845}. Best is trial 10 with value: 0.7707454562187195.\u001b[0m\n",
      "\u001b[32m[I 2022-04-14 17:24:41,419]\u001b[0m Trial 12 finished with value: 0.767665445804596 and parameters: {'n_estimators': 175, 'max_depth': 16, 'min_child_weight': 6, 'learning_rate': 0.12316613639190122}. Best is trial 10 with value: 0.7707454562187195.\u001b[0m\n",
      "\u001b[32m[I 2022-04-14 17:31:40,680]\u001b[0m Trial 13 finished with value: 0.7688490748405457 and parameters: {'n_estimators': 159, 'max_depth': 20, 'min_child_weight': 6, 'learning_rate': 0.14782403297869556}. Best is trial 10 with value: 0.7707454562187195.\u001b[0m\n",
      "\u001b[32m[I 2022-04-14 17:32:33,229]\u001b[0m Trial 14 finished with value: 0.7656018137931824 and parameters: {'n_estimators': 200, 'max_depth': 13, 'min_child_weight': 4, 'learning_rate': 0.15250647568442424}. Best is trial 10 with value: 0.7707454562187195.\u001b[0m\n",
      "\u001b[32m[I 2022-04-14 17:36:18,356]\u001b[0m Trial 15 finished with value: 0.7667182087898254 and parameters: {'n_estimators': 148, 'max_depth': 17, 'min_child_weight': 4, 'learning_rate': 0.10206473829083484}. Best is trial 10 with value: 0.7707454562187195.\u001b[0m\n",
      "\u001b[32m[I 2022-04-14 17:36:41,562]\u001b[0m Trial 16 finished with value: 0.7637490630149841 and parameters: {'n_estimators': 211, 'max_depth': 11, 'min_child_weight': 6, 'learning_rate': 0.2887679003214444}. Best is trial 10 with value: 0.7707454562187195.\u001b[0m\n",
      "\u001b[32m[I 2022-04-14 17:39:55,769]\u001b[0m Trial 17 finished with value: 0.768316388130188 and parameters: {'n_estimators': 187, 'max_depth': 17, 'min_child_weight': 7, 'learning_rate': 0.15274877336155623}. Best is trial 10 with value: 0.7707454562187195.\u001b[0m\n",
      "\u001b[32m[I 2022-04-14 17:46:46,147]\u001b[0m Trial 18 finished with value: 0.7636854648590088 and parameters: {'n_estimators': 127, 'max_depth': 20, 'min_child_weight': 4, 'learning_rate': 0.25721277072166543}. Best is trial 10 with value: 0.7707454562187195.\u001b[0m\n",
      "\u001b[32m[I 2022-04-14 17:47:15,194]\u001b[0m Trial 19 finished with value: 0.7615145444869995 and parameters: {'n_estimators': 169, 'max_depth': 12, 'min_child_weight': 7, 'learning_rate': 0.13968741406536733}. Best is trial 10 with value: 0.7707454562187195.\u001b[0m\n",
      "\u001b[32m[I 2022-04-14 17:49:29,514]\u001b[0m Trial 20 finished with value: 0.768487274646759 and parameters: {'n_estimators': 235, 'max_depth': 15, 'min_child_weight': 3, 'learning_rate': 0.16905950465028496}. Best is trial 10 with value: 0.7707454562187195.\u001b[0m\n",
      "\u001b[32m[I 2022-04-14 17:56:43,369]\u001b[0m Trial 21 finished with value: 0.7691017985343933 and parameters: {'n_estimators': 159, 'max_depth': 20, 'min_child_weight': 6, 'learning_rate': 0.13618693391528922}. Best is trial 10 with value: 0.7707454562187195.\u001b[0m\n",
      "\u001b[32m[I 2022-04-14 18:05:04,937]\u001b[0m Trial 22 finished with value: 0.7707527279853821 and parameters: {'n_estimators': 194, 'max_depth': 20, 'min_child_weight': 7, 'learning_rate': 0.10339236651268453}. Best is trial 22 with value: 0.7707527279853821.\u001b[0m\n",
      "\u001b[32m[I 2022-04-14 18:09:56,254]\u001b[0m Trial 23 finished with value: 0.769221842288971 and parameters: {'n_estimators': 197, 'max_depth': 18, 'min_child_weight': 7, 'learning_rate': 0.11106331483572261}. Best is trial 22 with value: 0.7707527279853821.\u001b[0m\n",
      "\u001b[32m[I 2022-04-14 18:15:43,678]\u001b[0m Trial 24 finished with value: 0.7708309292793274 and parameters: {'n_estimators': 204, 'max_depth': 18, 'min_child_weight': 5, 'learning_rate': 0.10782755525488474}. Best is trial 24 with value: 0.7708309292793274.\u001b[0m\n"
     ]
    },
    {
     "output_type": "stream",
     "name": "stdout",
     "text": [
      "Best value: 0.7708309292793274\n",
      "Best params: {'n_estimators': 204, 'max_depth': 18, 'min_child_weight': 5, 'learning_rate': 0.10782755525488474}\n"
     ]
    }
   ],
   "metadata": {}
  },
  {
   "cell_type": "markdown",
   "source": [
    "The XGBoost achieved the best accuracy out of all selected algorithms, with an accuracy of around 77% on the validation set. The best (with respect to the chosen search space) XGBoost parameters are:"
   ],
   "metadata": {}
  },
  {
   "cell_type": "code",
   "execution_count": 5,
   "source": [
    "hpo_params = {\n",
    "    'n_estimators': 204,\n",
    "    'max_depth': 18,\n",
    "    'min_child_weight': 5,\n",
    "    'learning_rate': 0.10782755525488474,\n",
    "    'use_label_encoder': False,\n",
    "    'eval_metric': 'logloss',\n",
    "}"
   ],
   "outputs": [],
   "metadata": {}
  },
  {
   "cell_type": "markdown",
   "source": [
    "The final results are:\n",
    "\n",
    "Logistic Regression: ~64% acc.\n",
    "\n",
    "Random Forest: ~74% acc.\n",
    "\n",
    "XGBoost: ~77% acc."
   ],
   "metadata": {}
  },
  {
   "cell_type": "markdown",
   "source": [
    "# Evaluation\n",
    "\n",
    "This section will \n",
    "\n",
    "1. demonstrate the performance advantage of using a GPU accelerated implementation over a (distributed) CPU implementation\n",
    "2. provide the performance of the model on the test set (including additional metrics)"
   ],
   "metadata": {}
  },
  {
   "cell_type": "markdown",
   "source": [
    "## Comparison: training on GPU vs CPU"
   ],
   "metadata": {}
  },
  {
   "cell_type": "markdown",
   "source": [
    "This section will compare the performance of XGBoost's GPU-accelerated implementation to that of XGBoost's Dask implementation. \n",
    "\n",
    "Both classifiers will use the default parameters and will only differ in the used tree method (\"gpu_hist\" for the GPU and \"hist\" for the CPU)."
   ],
   "metadata": {}
  },
  {
   "cell_type": "code",
   "execution_count": 11,
   "source": [
    "shared_perf_params = {\n",
    "    'use_label_encoder': False,\n",
    "    'eval_metric': 'logloss',\n",
    "}\n",
    "\n",
    "gpu_perf_params = {**shared_perf_params, **{\"tree_method\": \"gpu_hist\"}}\n",
    "cpu_perf_params = {**shared_perf_params, **{\"tree_method\": \"hist\"}}"
   ],
   "outputs": [],
   "metadata": {}
  },
  {
   "cell_type": "markdown",
   "source": [
    "### GPU"
   ],
   "metadata": {}
  },
  {
   "cell_type": "code",
   "execution_count": 13,
   "source": [
    "%%timeit -n 1 -r 1 # one loop, one repetition\n",
    "\n",
    "clf_gpu = xgb.XGBClassifier(**gpu_perf_params)\n",
    "clf_gpu.fit(train_x, train_y)"
   ],
   "outputs": [
    {
     "output_type": "stream",
     "name": "stdout",
     "text": [
      "3.33 s ± 0 ns per loop (mean ± std. dev. of 1 run, 1 loop each)\n"
     ]
    }
   ],
   "metadata": {}
  },
  {
   "cell_type": "markdown",
   "source": [
    "The GPU accelerated XGBoost implementation takes around 3 seconds to complete the training cycle."
   ],
   "metadata": {}
  },
  {
   "cell_type": "markdown",
   "source": [
    "### CPU"
   ],
   "metadata": {}
  },
  {
   "cell_type": "markdown",
   "source": [
    "Because the data is presently stored in a cudf dataframe, it must be converted to a Dask-compliant format in order to use the Dask version of XGBoost. "
   ],
   "metadata": {}
  },
  {
   "cell_type": "code",
   "execution_count": 14,
   "source": [
    "train_x_dask = dask.dataframe.from_pandas(train_x.to_pandas(), npartitions=100)\n",
    "train_y_dask = dask.dataframe.from_pandas(train_y.to_pandas(), npartitions=100)"
   ],
   "outputs": [],
   "metadata": {}
  },
  {
   "cell_type": "markdown",
   "source": [
    "We can now initialise the cluster."
   ],
   "metadata": {}
  },
  {
   "cell_type": "code",
   "execution_count": 15,
   "source": [
    "cluster = LocalCluster()\n",
    "client = Client(cluster)"
   ],
   "outputs": [],
   "metadata": {}
  },
  {
   "cell_type": "markdown",
   "source": [
    "and then run one training cycle"
   ],
   "metadata": {}
  },
  {
   "cell_type": "code",
   "execution_count": 16,
   "source": [
    "%%timeit -n 1 -r 1\n",
    "\n",
    "clf_cpu = xgb.dask.DaskXGBClassifier(**cpu_perf_params)\n",
    "clf_cpu.client = client\n",
    "clf_cpu.fit(train_x_dask, train_y_dask)"
   ],
   "outputs": [
    {
     "output_type": "stream",
     "name": "stderr",
     "text": [
      "[12:32:37] task [xgboost.dask]:tcp://127.0.0.1:42935 got new rank 0\n",
      "[12:32:37] task [xgboost.dask]:tcp://127.0.0.1:46811 got new rank 1\n",
      "[12:32:37] task [xgboost.dask]:tcp://127.0.0.1:46193 got new rank 2\n",
      "[12:32:37] task [xgboost.dask]:tcp://127.0.0.1:37929 got new rank 3\n",
      "[12:32:37] task [xgboost.dask]:tcp://127.0.0.1:44839 got new rank 4\n"
     ]
    },
    {
     "output_type": "stream",
     "name": "stdout",
     "text": [
      "38.5 s ± 0 ns per loop (mean ± std. dev. of 1 run, 1 loop each)\n"
     ]
    }
   ],
   "metadata": {}
  },
  {
   "cell_type": "markdown",
   "source": [
    "The Dask implementation of XGBoost takes around 38 seconds, so about 12 times longer than the GPU accelerated implementation!"
   ],
   "metadata": {}
  },
  {
   "cell_type": "markdown",
   "source": [
    "## Performance on the test set\n",
    "\n",
    "Until now, we evaluated the model and its hyperparameter on the validation set only. As the hyperparameter optimisation is now complete, we can merge the train- and validation and retrain the model afterwards (with the optimal hyperparameters). The model will then be evaluated on the test set."
   ],
   "metadata": {}
  },
  {
   "cell_type": "markdown",
   "source": [
    "Merge train and validation set"
   ],
   "metadata": {}
  },
  {
   "cell_type": "code",
   "execution_count": 7,
   "source": [
    "train_x = cudf.concat([train_x, valid_x])\n",
    "train_y = cudf.concat([train_y, valid_y])"
   ],
   "outputs": [],
   "metadata": {}
  },
  {
   "cell_type": "markdown",
   "source": [
    "The obtained optimal hyperparameter (within the defined searchspace) were:"
   ],
   "metadata": {}
  },
  {
   "cell_type": "code",
   "execution_count": 8,
   "source": [
    "hpo_params"
   ],
   "outputs": [
    {
     "output_type": "execute_result",
     "data": {
      "text/plain": [
       "{'n_estimators': 204,\n",
       " 'max_depth': 18,\n",
       " 'min_child_weight': 5,\n",
       " 'learning_rate': 0.10782755525488474,\n",
       " 'use_label_encoder': False,\n",
       " 'eval_metric': 'logloss'}"
      ]
     },
     "metadata": {},
     "execution_count": 8
    }
   ],
   "metadata": {}
  },
  {
   "cell_type": "markdown",
   "source": [
    "To utilise the GPU, we set the tree method accordingly."
   ],
   "metadata": {}
  },
  {
   "cell_type": "code",
   "execution_count": 9,
   "source": [
    "hpo_params[\"tree_method\"] = \"gpu_hist\""
   ],
   "outputs": [],
   "metadata": {}
  },
  {
   "cell_type": "markdown",
   "source": [
    "Retrain the model with the optimal parameters. Note that the high maximal depth is a very computational expensive parameter and leads to longer training cycles."
   ],
   "metadata": {}
  },
  {
   "cell_type": "code",
   "execution_count": 10,
   "source": [
    "start = time.time()\n",
    "\n",
    "clf = xgb.XGBClassifier(**hpo_params)\n",
    "clf.fit(train_x, train_y)\n",
    "\n",
    "print(f\"Training took {round((time.time() - start), 2)} seconds\")"
   ],
   "outputs": [
    {
     "output_type": "stream",
     "name": "stdout",
     "text": [
      "Training took 344.1 seconds\n"
     ]
    }
   ],
   "metadata": {}
  },
  {
   "cell_type": "markdown",
   "source": [
    "Training the model took 5min 44s on the GPU. We can now use the trained model for inference and report the performance on the test set."
   ],
   "metadata": {}
  },
  {
   "cell_type": "code",
   "execution_count": 11,
   "source": [
    "pred_y = clf.predict(test_x)"
   ],
   "outputs": [],
   "metadata": {}
  },
  {
   "cell_type": "markdown",
   "source": [
    "We convert the test_y to a NumPy array to calculate various metrics."
   ],
   "metadata": {}
  },
  {
   "cell_type": "code",
   "execution_count": 12,
   "source": [
    "test_y = test_y.to_numpy()"
   ],
   "outputs": [],
   "metadata": {}
  },
  {
   "cell_type": "code",
   "execution_count": 13,
   "source": [
    "print(classification_report(test_y, pred_y))"
   ],
   "outputs": [
    {
     "output_type": "stream",
     "name": "stdout",
     "text": [
      "              precision    recall  f1-score   support\n",
      "\n",
      "         0.0       0.76      0.75      0.75    258984\n",
      "         1.0       0.78      0.79      0.78    291016\n",
      "\n",
      "    accuracy                           0.77    550000\n",
      "   macro avg       0.77      0.77      0.77    550000\n",
      "weighted avg       0.77      0.77      0.77    550000\n",
      "\n"
     ]
    }
   ],
   "metadata": {}
  },
  {
   "cell_type": "markdown",
   "source": [
    "As we can see, the accuracy on the test set is no different from the one on the validation set. Considering the size of the dataset, this was expected. \n",
    "\n",
    "An accuracy of 77% was achieved, along with precision and recall values between 75% to 79%. \n",
    "Both signal and background events are relatively similar with respect to the precision and recall scores. However, signal events ($1.0$) are being predicted a bit more precise than background events. \n",
    "\n",
    "Overall the performance is acceptable but not great — more on that in the conclusion.\n",
    "\n",
    "Additional metrics like specificity, the confusion matrix and the AUC are obtained below."
   ],
   "metadata": {}
  },
  {
   "cell_type": "markdown",
   "source": [
    "The specificity can be obtained by defining the pos_label in the recall function as it's the recall of the negative class:"
   ],
   "metadata": {}
  },
  {
   "cell_type": "code",
   "execution_count": 14,
   "source": [
    "print(f\"Specificity: {recall_score(test_y, pred_y, pos_label=0)}\")"
   ],
   "outputs": [
    {
     "output_type": "stream",
     "name": "stdout",
     "text": [
      "Specificity: 0.7466021066938499\n"
     ]
    }
   ],
   "metadata": {}
  },
  {
   "cell_type": "markdown",
   "source": [
    "Confusion matrix:"
   ],
   "metadata": {}
  },
  {
   "cell_type": "code",
   "execution_count": 15,
   "source": [
    "cm = ConfusionMatrixDisplay(\n",
    "    confusion_matrix=confusion_matrix(test_y, pred_y),\n",
    ")\n",
    "cm.plot()"
   ],
   "outputs": [
    {
     "output_type": "execute_result",
     "data": {
      "text/plain": [
       "<sklearn.metrics._plot.confusion_matrix.ConfusionMatrixDisplay at 0x7fe4f0853790>"
      ]
     },
     "metadata": {},
     "execution_count": 15
    },
    {
     "output_type": "display_data",
     "data": {
      "text/plain": [
       "<Figure size 432x288 with 2 Axes>"
      ],
      "image/png": "[encoded data removed]"
     },
     "metadata": {
      "needs_background": "light"
     }
    }
   ],
   "metadata": {}
  },
  {
   "cell_type": "markdown",
   "source": [
    "AUC"
   ],
   "metadata": {}
  },
  {
   "cell_type": "code",
   "execution_count": 18,
   "source": [
    "fpr, tpr, thresholds = roc_curve(test_y, pred_y)"
   ],
   "outputs": [],
   "metadata": {}
  },
  {
   "cell_type": "code",
   "execution_count": 19,
   "source": [
    "print(f\"AUC: {auc(fpr, tpr)}\")"
   ],
   "outputs": [
    {
     "output_type": "stream",
     "name": "stdout",
     "text": [
      "AUC: 0.76884975170028\n"
     ]
    }
   ],
   "metadata": {}
  },
  {
   "cell_type": "markdown",
   "source": [
    "The AUC is close to what the [authors](https://arxiv.org/pdf/1402.4735.pdf) of the dataset achieved using boosted decision trees. "
   ],
   "metadata": {}
  },
  {
   "cell_type": "markdown",
   "source": [
    "# Comparison PCA vs no PCA\n",
    "\n",
    "Now that we know the performance on the test set, we can check whether applying PCA to the dataset yields better results.\n",
    "\n",
    "We will utilise the `n_components` parameter of the pre-processing pipeline defined previously.\n",
    "\n",
    "Two settings are tested: 21 principal components and 7 principal components, as this equals the number of low-level and high-level features, respectively.\n",
    "\n",
    "### 21 principal components"
   ],
   "metadata": {}
  },
  {
   "cell_type": "code",
   "execution_count": 32,
   "source": [
    "pre_processing_params = dict(\n",
    "    path=\"data/Partical.csv\",\n",
    "    class_col=\"class\",\n",
    "    shuffle=True,\n",
    "    n_components=21,\n",
    "    train_size=0.925,\n",
    "    valid_size=0.025,\n",
    "    test_size=0.05,\n",
    ")"
   ],
   "outputs": [],
   "metadata": {}
  },
  {
   "cell_type": "markdown",
   "source": [
    "Process the data with the new parameters"
   ],
   "metadata": {}
  },
  {
   "cell_type": "code",
   "execution_count": 33,
   "source": [
    "train_x, train_y, valid_x, valid_y, test_x, test_y = pipeline(pre_processing_params)"
   ],
   "outputs": [],
   "metadata": {}
  },
  {
   "cell_type": "markdown",
   "source": [
    "Concat train and validation set"
   ],
   "metadata": {}
  },
  {
   "cell_type": "code",
   "execution_count": 40,
   "source": [
    "train_x = cudf.concat([train_x, valid_x])\n",
    "train_y = cudf.concat([train_y, valid_y])"
   ],
   "outputs": [],
   "metadata": {}
  },
  {
   "cell_type": "markdown",
   "source": [
    "Make sure PCA was applied successfully by checking the number of features (which should equal 21)"
   ],
   "metadata": {}
  },
  {
   "cell_type": "code",
   "execution_count": 36,
   "source": [
    "train_x.shape"
   ],
   "outputs": [
    {
     "output_type": "execute_result",
     "data": {
      "text/plain": [
       "(10449999, 21)"
      ]
     },
     "metadata": {},
     "execution_count": 36
    }
   ],
   "metadata": {}
  },
  {
   "cell_type": "markdown",
   "source": [
    "Fit classifier"
   ],
   "metadata": {}
  },
  {
   "cell_type": "code",
   "execution_count": 35,
   "source": [
    "start = time.time()\n",
    "\n",
    "clf = xgb.XGBClassifier(**hpo_params)\n",
    "clf.fit(train_x, train_y)\n",
    "\n",
    "print(f\"Training took {round((time.time() - start), 2)} seconds\")"
   ],
   "outputs": [
    {
     "output_type": "stream",
     "name": "stdout",
     "text": [
      "Training took 312.37 seconds\n"
     ]
    }
   ],
   "metadata": {}
  },
  {
   "cell_type": "code",
   "execution_count": 37,
   "source": [
    "pred_y = clf.predict(test_x)"
   ],
   "outputs": [],
   "metadata": {}
  },
  {
   "cell_type": "code",
   "execution_count": 38,
   "source": [
    "test_y = test_y.to_numpy()"
   ],
   "outputs": [],
   "metadata": {}
  },
  {
   "cell_type": "code",
   "execution_count": 39,
   "source": [
    "print(classification_report(test_y, pred_y))"
   ],
   "outputs": [
    {
     "output_type": "stream",
     "name": "stdout",
     "text": [
      "              precision    recall  f1-score   support\n",
      "\n",
      "         0.0       0.73      0.68      0.70    258584\n",
      "         1.0       0.73      0.78      0.75    291416\n",
      "\n",
      "    accuracy                           0.73    550000\n",
      "   macro avg       0.73      0.73      0.73    550000\n",
      "weighted avg       0.73      0.73      0.73    550000\n",
      "\n"
     ]
    }
   ],
   "metadata": {}
  },
  {
   "cell_type": "markdown",
   "source": [
    "As we can see, applying PCA with 21 principal components resulted in a minor model-performance drop compared to the performance on the original feature set. \n",
    "\n",
    "The runtime was reduced by 30 seconds, or around 9%, due to the lower number of features. \n",
    "\n",
    "One could favour runtime performance over model performance depending on the use case. However, in this case, the runtime improvements are negligible as they are very tiny and yield a lower model-performance.\n",
    "\n",
    "### 7 PCA components"
   ],
   "metadata": {}
  },
  {
   "cell_type": "code",
   "execution_count": 41,
   "source": [
    "pre_processing_params = dict(\n",
    "    path=\"data/Partical.csv\",\n",
    "    class_col=\"class\",\n",
    "    shuffle=True,\n",
    "    n_components=7,\n",
    "    train_size=0.925,\n",
    "    valid_size=0.025,\n",
    "    test_size=0.05,\n",
    ")"
   ],
   "outputs": [],
   "metadata": {}
  },
  {
   "cell_type": "markdown",
   "source": [
    "Process the data with the new parameters"
   ],
   "metadata": {}
  },
  {
   "cell_type": "code",
   "execution_count": 42,
   "source": [
    "train_x, train_y, valid_x, valid_y, test_x, test_y = pipeline(pre_processing_params)"
   ],
   "outputs": [],
   "metadata": {}
  },
  {
   "cell_type": "markdown",
   "source": [
    "Concat train and validation set"
   ],
   "metadata": {}
  },
  {
   "cell_type": "code",
   "execution_count": 43,
   "source": [
    "train_x = cudf.concat([train_x, valid_x])\n",
    "train_y = cudf.concat([train_y, valid_y])"
   ],
   "outputs": [],
   "metadata": {}
  },
  {
   "cell_type": "markdown",
   "source": [
    "Make sure PCA was applied successfully by checking the number of features (which should equal 7)"
   ],
   "metadata": {}
  },
  {
   "cell_type": "code",
   "execution_count": 45,
   "source": [
    "train_x.shape"
   ],
   "outputs": [
    {
     "output_type": "execute_result",
     "data": {
      "text/plain": [
       "(10449999, 7)"
      ]
     },
     "metadata": {},
     "execution_count": 45
    }
   ],
   "metadata": {}
  },
  {
   "cell_type": "markdown",
   "source": [
    "Fit classifier"
   ],
   "metadata": {}
  },
  {
   "cell_type": "code",
   "execution_count": 46,
   "source": [
    "start = time.time()\n",
    "\n",
    "clf = xgb.XGBClassifier(**hpo_params)\n",
    "clf.fit(train_x, train_y)\n",
    "\n",
    "print(f\"Training took {round((time.time() - start), 2)} seconds\")"
   ],
   "outputs": [
    {
     "output_type": "stream",
     "name": "stdout",
     "text": [
      "Training took 151.57 seconds\n"
     ]
    }
   ],
   "metadata": {}
  },
  {
   "cell_type": "code",
   "execution_count": 47,
   "source": [
    "pred_y = clf.predict(test_x)"
   ],
   "outputs": [],
   "metadata": {}
  },
  {
   "cell_type": "code",
   "execution_count": 48,
   "source": [
    "test_y = test_y.to_numpy()"
   ],
   "outputs": [],
   "metadata": {}
  },
  {
   "cell_type": "code",
   "execution_count": 49,
   "source": [
    "print(classification_report(test_y, pred_y))"
   ],
   "outputs": [
    {
     "output_type": "stream",
     "name": "stdout",
     "text": [
      "              precision    recall  f1-score   support\n",
      "\n",
      "         0.0       0.63      0.57      0.60    258455\n",
      "         1.0       0.65      0.71      0.68    291545\n",
      "\n",
      "    accuracy                           0.64    550000\n",
      "   macro avg       0.64      0.64      0.64    550000\n",
      "weighted avg       0.64      0.64      0.64    550000\n",
      "\n"
     ]
    }
   ],
   "metadata": {}
  },
  {
   "cell_type": "markdown",
   "source": [
    "The model performance is reduced significantly compared to the original feature set and 21 principal components. The runtime was also reduced by ~56%, which is a huge improvement. \n",
    "\n",
    "However, the performance is now on par with the performance of the logistic regression (see above). If the runtime is that important, one might as well stick to the logistic regression, which has a runtime that is even less than the one presented here. Even on the original feature set. "
   ],
   "metadata": {}
  },
  {
   "cell_type": "markdown",
   "source": [
    "# Conclusion\n",
    "\n",
    "This notebook utilises the RAPIDS suite and other GPU accelerated libraries to process a large dataset and tune and train several classifiers. \n",
    "\n",
    "After defining the pre-processing tasks and pipeline, an exploratory data analysis was performed. Following that, Optuna was utilised to tune the parameters of the selected machine learning algorithms. \n",
    "\n",
    "Then, the runtime of GPU-accelerated training cycles was compared to that of a (distributed) CPU implementation. Finally, the model and the set of hyperparameters obtained from the hyperparameter optimisation were retrained, and various metrics were reported. \n",
    "\n",
    "Additionally, it was investigated whether or not the application of PCA yields improved performance. \n",
    "\n",
    "Overall the performance is acceptable but not great. This is most likely because the selected machine learning algorithms are not capable of identifying additional 'features' that describe the underlying characteristics of the data on their own.\n",
    "\n",
    "It is very likely (and already evident) that deep learning can help improve performance due to its ability to identify additional 'features' itself automatically. Deep learning profits more than other machine learning algorithms from a large number of training samples. Since the data is simulated, it is relatively easy to generate more training data. This could allow for much deeper and more flexible networks, capable of identifying very complex patterns and ultimately leading to an outstanding performance (provided that the data captures the underlying relationship). "
   ],
   "metadata": {}
  }
 ],
 "metadata": {
  "interpreter": {
   "hash": "13eb2e2d374e1989b1aee4411b7d54fcf0488dac9d6327102b0d70b3bff01564"
  },
  "kernelspec": {
   "display_name": "Python 3.7.11 64-bit ('Env-7145COMP': conda)",
   "name": "python3"
  },
  "language_info": {
   "codemirror_mode": {
    "name": "ipython",
    "version": 3
   },
   "file_extension": ".py",
   "mimetype": "text/x-python",
   "name": "python",
   "nbconvert_exporter": "python",
   "pygments_lexer": "ipython3",
   "version": "3.7.11"
  }
 },
 "nbformat": 4,
 "nbformat_minor": 2
}